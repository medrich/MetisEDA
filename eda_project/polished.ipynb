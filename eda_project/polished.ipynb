{
 "cells": [
  {
   "cell_type": "code",
   "execution_count": 1,
   "id": "c1a14ccc-9c4c-4297-8635-a5e606fdf432",
   "metadata": {},
   "outputs": [],
   "source": [
    "import pandas as pd\n",
    "import sqlite3\n",
    "import sqlalchemy as db\n",
    "import matplotlib.pyplot as plt\n",
    "import descartes\n",
    "import geopandas as gpd\n",
    "from shapely.geometry import Point, Polygon\n",
    "import seaborn as sns\n",
    "import datetime\n",
    "\n",
    "%matplotlib inline\n",
    "plt.style.use('ggplot')"
   ]
  },
  {
   "cell_type": "code",
   "execution_count": 2,
   "id": "e687643b-8f30-47b3-b501-4560eedf7fca",
   "metadata": {},
   "outputs": [],
   "source": [
    "# Function to create a dataframe of MTA turnstile data spanning 7/3/2021 to 9/25/21\n",
    "\n",
    "# Data from http://web.mta.info/developers/turnstile.html\n",
    "\n",
    "def get_data(weeks):\n",
    "    url = \"http://web.mta.info/developers/data/nyct/turnstile/turnstile_{}.txt\"\n",
    "    dfs = []\n",
    "    \n",
    "    for week in weeks:\n",
    "        week_url = url.format(week)\n",
    "        dfs.append(pd.read_csv(week_url, parse_dates = [['DATE','TIME']], keep_date_col=True))\n",
    "    return pd.concat(dfs)\n",
    "\n",
    "weeks = [210925, 210918, 210911, 210904, 210828, 210821, 210814, 210807, 210731, 210724, 210717, 210710, 210703]"
   ]
  },
  {
   "cell_type": "code",
   "execution_count": 5,
   "id": "3d626d57-f5da-4462-8064-da39b9e5143b",
   "metadata": {},
   "outputs": [
    {
     "name": "stderr",
     "output_type": "stream",
     "text": [
      "/tmp/ipykernel_296470/2209206835.py:6: SADeprecationWarning: The Engine.table_names() method is deprecated and will be removed in a future release.  Please refer to Inspector.get_table_names(). (deprecated since: 1.4)\n",
      "  engine.table_names()\n"
     ]
    },
    {
     "data": {
      "text/plain": [
       "['mta_data']"
      ]
     },
     "execution_count": 5,
     "metadata": {},
     "output_type": "execute_result"
    }
   ],
   "source": [
    "# Connect to SQL database\n",
    "\n",
    "engine = db.create_engine('sqlite:///data/mta_data.db')\n",
    "\n",
    "# Check SQL connection\n",
    "engine.table_names()"
   ]
  },
  {
   "cell_type": "code",
   "execution_count": 6,
   "id": "cabcbb68-0871-42b8-b29a-35e71d290278",
   "metadata": {},
   "outputs": [],
   "source": [
    "# Read in SQL \n",
    "\n",
    "mta_raw = pd.read_sql('SELECT [C/A], [UNIT], [SCP], [STATION], [LINENAME], [DIVISION], [DATE], [TIME], [DESC], [ENTRIES], [EXITS] FROM mta_data;', engine)"
   ]
  },
  {
   "cell_type": "code",
   "execution_count": 7,
   "id": "c5ef98cd-34d6-4b98-9632-d885715c9ed1",
   "metadata": {},
   "outputs": [
    {
     "data": {
      "text/html": [
       "<div>\n",
       "<style scoped>\n",
       "    .dataframe tbody tr th:only-of-type {\n",
       "        vertical-align: middle;\n",
       "    }\n",
       "\n",
       "    .dataframe tbody tr th {\n",
       "        vertical-align: top;\n",
       "    }\n",
       "\n",
       "    .dataframe thead th {\n",
       "        text-align: right;\n",
       "    }\n",
       "</style>\n",
       "<table border=\"1\" class=\"dataframe\">\n",
       "  <thead>\n",
       "    <tr style=\"text-align: right;\">\n",
       "      <th></th>\n",
       "      <th>C/A</th>\n",
       "      <th>UNIT</th>\n",
       "      <th>SCP</th>\n",
       "      <th>STATION</th>\n",
       "      <th>LINENAME</th>\n",
       "      <th>DIVISION</th>\n",
       "      <th>DATE</th>\n",
       "      <th>TIME</th>\n",
       "      <th>DESC</th>\n",
       "      <th>ENTRIES</th>\n",
       "      <th>EXITS</th>\n",
       "    </tr>\n",
       "  </thead>\n",
       "  <tbody>\n",
       "    <tr>\n",
       "      <th>0</th>\n",
       "      <td>A002</td>\n",
       "      <td>R051</td>\n",
       "      <td>02-00-00</td>\n",
       "      <td>59 ST</td>\n",
       "      <td>NQR456W</td>\n",
       "      <td>BMT</td>\n",
       "      <td>09/18/2021</td>\n",
       "      <td>00:00:00</td>\n",
       "      <td>REGULAR</td>\n",
       "      <td>7637026</td>\n",
       "      <td>2613455</td>\n",
       "    </tr>\n",
       "    <tr>\n",
       "      <th>1</th>\n",
       "      <td>A002</td>\n",
       "      <td>R051</td>\n",
       "      <td>02-00-00</td>\n",
       "      <td>59 ST</td>\n",
       "      <td>NQR456W</td>\n",
       "      <td>BMT</td>\n",
       "      <td>09/18/2021</td>\n",
       "      <td>04:00:00</td>\n",
       "      <td>REGULAR</td>\n",
       "      <td>7637036</td>\n",
       "      <td>2613457</td>\n",
       "    </tr>\n",
       "    <tr>\n",
       "      <th>2</th>\n",
       "      <td>A002</td>\n",
       "      <td>R051</td>\n",
       "      <td>02-00-00</td>\n",
       "      <td>59 ST</td>\n",
       "      <td>NQR456W</td>\n",
       "      <td>BMT</td>\n",
       "      <td>09/18/2021</td>\n",
       "      <td>08:00:00</td>\n",
       "      <td>REGULAR</td>\n",
       "      <td>7637047</td>\n",
       "      <td>2613478</td>\n",
       "    </tr>\n",
       "    <tr>\n",
       "      <th>3</th>\n",
       "      <td>A002</td>\n",
       "      <td>R051</td>\n",
       "      <td>02-00-00</td>\n",
       "      <td>59 ST</td>\n",
       "      <td>NQR456W</td>\n",
       "      <td>BMT</td>\n",
       "      <td>09/18/2021</td>\n",
       "      <td>12:00:00</td>\n",
       "      <td>REGULAR</td>\n",
       "      <td>7637104</td>\n",
       "      <td>2613524</td>\n",
       "    </tr>\n",
       "    <tr>\n",
       "      <th>4</th>\n",
       "      <td>A002</td>\n",
       "      <td>R051</td>\n",
       "      <td>02-00-00</td>\n",
       "      <td>59 ST</td>\n",
       "      <td>NQR456W</td>\n",
       "      <td>BMT</td>\n",
       "      <td>09/18/2021</td>\n",
       "      <td>16:00:00</td>\n",
       "      <td>REGULAR</td>\n",
       "      <td>7637236</td>\n",
       "      <td>2613561</td>\n",
       "    </tr>\n",
       "    <tr>\n",
       "      <th>...</th>\n",
       "      <td>...</td>\n",
       "      <td>...</td>\n",
       "      <td>...</td>\n",
       "      <td>...</td>\n",
       "      <td>...</td>\n",
       "      <td>...</td>\n",
       "      <td>...</td>\n",
       "      <td>...</td>\n",
       "      <td>...</td>\n",
       "      <td>...</td>\n",
       "      <td>...</td>\n",
       "    </tr>\n",
       "    <tr>\n",
       "      <th>2724413</th>\n",
       "      <td>TRAM2</td>\n",
       "      <td>R469</td>\n",
       "      <td>00-05-01</td>\n",
       "      <td>RIT-ROOSEVELT</td>\n",
       "      <td>R</td>\n",
       "      <td>RIT</td>\n",
       "      <td>07/02/2021</td>\n",
       "      <td>05:00:00</td>\n",
       "      <td>REGULAR</td>\n",
       "      <td>5554</td>\n",
       "      <td>585</td>\n",
       "    </tr>\n",
       "    <tr>\n",
       "      <th>2724414</th>\n",
       "      <td>TRAM2</td>\n",
       "      <td>R469</td>\n",
       "      <td>00-05-01</td>\n",
       "      <td>RIT-ROOSEVELT</td>\n",
       "      <td>R</td>\n",
       "      <td>RIT</td>\n",
       "      <td>07/02/2021</td>\n",
       "      <td>09:00:00</td>\n",
       "      <td>REGULAR</td>\n",
       "      <td>5554</td>\n",
       "      <td>585</td>\n",
       "    </tr>\n",
       "    <tr>\n",
       "      <th>2724415</th>\n",
       "      <td>TRAM2</td>\n",
       "      <td>R469</td>\n",
       "      <td>00-05-01</td>\n",
       "      <td>RIT-ROOSEVELT</td>\n",
       "      <td>R</td>\n",
       "      <td>RIT</td>\n",
       "      <td>07/02/2021</td>\n",
       "      <td>13:00:00</td>\n",
       "      <td>REGULAR</td>\n",
       "      <td>5554</td>\n",
       "      <td>585</td>\n",
       "    </tr>\n",
       "    <tr>\n",
       "      <th>2724416</th>\n",
       "      <td>TRAM2</td>\n",
       "      <td>R469</td>\n",
       "      <td>00-05-01</td>\n",
       "      <td>RIT-ROOSEVELT</td>\n",
       "      <td>R</td>\n",
       "      <td>RIT</td>\n",
       "      <td>07/02/2021</td>\n",
       "      <td>17:00:00</td>\n",
       "      <td>REGULAR</td>\n",
       "      <td>5554</td>\n",
       "      <td>585</td>\n",
       "    </tr>\n",
       "    <tr>\n",
       "      <th>2724417</th>\n",
       "      <td>TRAM2</td>\n",
       "      <td>R469</td>\n",
       "      <td>00-05-01</td>\n",
       "      <td>RIT-ROOSEVELT</td>\n",
       "      <td>R</td>\n",
       "      <td>RIT</td>\n",
       "      <td>07/02/2021</td>\n",
       "      <td>21:00:00</td>\n",
       "      <td>REGULAR</td>\n",
       "      <td>5554</td>\n",
       "      <td>585</td>\n",
       "    </tr>\n",
       "  </tbody>\n",
       "</table>\n",
       "<p>2724418 rows × 11 columns</p>\n",
       "</div>"
      ],
      "text/plain": [
       "           C/A  UNIT       SCP        STATION LINENAME DIVISION        DATE  \\\n",
       "0         A002  R051  02-00-00          59 ST  NQR456W      BMT  09/18/2021   \n",
       "1         A002  R051  02-00-00          59 ST  NQR456W      BMT  09/18/2021   \n",
       "2         A002  R051  02-00-00          59 ST  NQR456W      BMT  09/18/2021   \n",
       "3         A002  R051  02-00-00          59 ST  NQR456W      BMT  09/18/2021   \n",
       "4         A002  R051  02-00-00          59 ST  NQR456W      BMT  09/18/2021   \n",
       "...        ...   ...       ...            ...      ...      ...         ...   \n",
       "2724413  TRAM2  R469  00-05-01  RIT-ROOSEVELT        R      RIT  07/02/2021   \n",
       "2724414  TRAM2  R469  00-05-01  RIT-ROOSEVELT        R      RIT  07/02/2021   \n",
       "2724415  TRAM2  R469  00-05-01  RIT-ROOSEVELT        R      RIT  07/02/2021   \n",
       "2724416  TRAM2  R469  00-05-01  RIT-ROOSEVELT        R      RIT  07/02/2021   \n",
       "2724417  TRAM2  R469  00-05-01  RIT-ROOSEVELT        R      RIT  07/02/2021   \n",
       "\n",
       "             TIME     DESC  ENTRIES    EXITS  \n",
       "0        00:00:00  REGULAR  7637026  2613455  \n",
       "1        04:00:00  REGULAR  7637036  2613457  \n",
       "2        08:00:00  REGULAR  7637047  2613478  \n",
       "3        12:00:00  REGULAR  7637104  2613524  \n",
       "4        16:00:00  REGULAR  7637236  2613561  \n",
       "...           ...      ...      ...      ...  \n",
       "2724413  05:00:00  REGULAR     5554      585  \n",
       "2724414  09:00:00  REGULAR     5554      585  \n",
       "2724415  13:00:00  REGULAR     5554      585  \n",
       "2724416  17:00:00  REGULAR     5554      585  \n",
       "2724417  21:00:00  REGULAR     5554      585  \n",
       "\n",
       "[2724418 rows x 11 columns]"
      ]
     },
     "execution_count": 7,
     "metadata": {},
     "output_type": "execute_result"
    }
   ],
   "source": [
    "mta_raw"
   ]
  },
  {
   "cell_type": "code",
   "execution_count": 8,
   "id": "6252e54a-352c-4a60-8e6a-e4d948674358",
   "metadata": {},
   "outputs": [],
   "source": [
    "# Read in data with parse_dates creating a datetime column\n",
    "\n",
    "mta_datetime = get_data(weeks)"
   ]
  },
  {
   "cell_type": "code",
   "execution_count": 9,
   "id": "60a3981b-555d-4c85-b58c-dbe8d1dfec01",
   "metadata": {},
   "outputs": [],
   "source": [
    "# Sort values and drop duplicates\n",
    "\n",
    "mta_datetime.sort_values([\"C/A\", \"UNIT\", \"SCP\", \"STATION\", \"DATE_TIME\"], \n",
    "                          inplace=True, ascending=False)\n",
    "\n",
    "mta_datetime.drop_duplicates(subset=[\"C/A\", \"UNIT\", \"SCP\", \"STATION\", \"DATE_TIME\"], inplace=True)"
   ]
  },
  {
   "cell_type": "code",
   "execution_count": 10,
   "id": "c1d54766-8f79-498e-9234-367abfd751e6",
   "metadata": {},
   "outputs": [
    {
     "name": "stderr",
     "output_type": "stream",
     "text": [
      "/tmp/ipykernel_296470/3545793918.py:7: FutureWarning: Indexing with multiple keys (implicitly converted to a tuple of keys) will be deprecated, use a list instead.\n",
      "  turnstiles_daily[[\"PREV_DATE\", \"PREV_ENTRIES\"]] = (turnstiles_daily\n"
     ]
    }
   ],
   "source": [
    "# Group rows by turnstile\n",
    "\n",
    "turnstiles_daily = mta_datetime.groupby([\"C/A\", \"UNIT\", \"SCP\", \"STATION\", \"DATE_TIME\"],as_index=False).ENTRIES.first() \n",
    "\n",
    "# Then find the daily entries at each turnstile\n",
    "\n",
    "turnstiles_daily[[\"PREV_DATE\", \"PREV_ENTRIES\"]] = (turnstiles_daily\n",
    "                                                       .groupby([\"C/A\", \"UNIT\", \"SCP\", \"STATION\"])[\"DATE_TIME\", \"ENTRIES\"]\n",
    "                                                       .apply(lambda grp: grp.shift(1)))"
   ]
  },
  {
   "cell_type": "code",
   "execution_count": 11,
   "id": "428734c4-9a05-4ff5-bd7b-22a13c635fe5",
   "metadata": {},
   "outputs": [
    {
     "data": {
      "text/html": [
       "<div>\n",
       "<style scoped>\n",
       "    .dataframe tbody tr th:only-of-type {\n",
       "        vertical-align: middle;\n",
       "    }\n",
       "\n",
       "    .dataframe tbody tr th {\n",
       "        vertical-align: top;\n",
       "    }\n",
       "\n",
       "    .dataframe thead th {\n",
       "        text-align: right;\n",
       "    }\n",
       "</style>\n",
       "<table border=\"1\" class=\"dataframe\">\n",
       "  <thead>\n",
       "    <tr style=\"text-align: right;\">\n",
       "      <th></th>\n",
       "      <th>C/A</th>\n",
       "      <th>UNIT</th>\n",
       "      <th>SCP</th>\n",
       "      <th>STATION</th>\n",
       "      <th>DATE_TIME</th>\n",
       "      <th>ENTRIES</th>\n",
       "      <th>PREV_DATE</th>\n",
       "      <th>PREV_ENTRIES</th>\n",
       "    </tr>\n",
       "  </thead>\n",
       "  <tbody>\n",
       "    <tr>\n",
       "      <th>0</th>\n",
       "      <td>A002</td>\n",
       "      <td>R051</td>\n",
       "      <td>02-00-00</td>\n",
       "      <td>59 ST</td>\n",
       "      <td>2021-06-26 00:00:00</td>\n",
       "      <td>7592792</td>\n",
       "      <td>NaT</td>\n",
       "      <td>NaN</td>\n",
       "    </tr>\n",
       "    <tr>\n",
       "      <th>1</th>\n",
       "      <td>A002</td>\n",
       "      <td>R051</td>\n",
       "      <td>02-00-00</td>\n",
       "      <td>59 ST</td>\n",
       "      <td>2021-06-26 04:00:00</td>\n",
       "      <td>7592804</td>\n",
       "      <td>2021-06-26 00:00:00</td>\n",
       "      <td>7592792.0</td>\n",
       "    </tr>\n",
       "    <tr>\n",
       "      <th>2</th>\n",
       "      <td>A002</td>\n",
       "      <td>R051</td>\n",
       "      <td>02-00-00</td>\n",
       "      <td>59 ST</td>\n",
       "      <td>2021-06-26 08:00:00</td>\n",
       "      <td>7592816</td>\n",
       "      <td>2021-06-26 04:00:00</td>\n",
       "      <td>7592804.0</td>\n",
       "    </tr>\n",
       "    <tr>\n",
       "      <th>3</th>\n",
       "      <td>A002</td>\n",
       "      <td>R051</td>\n",
       "      <td>02-00-00</td>\n",
       "      <td>59 ST</td>\n",
       "      <td>2021-06-26 12:00:00</td>\n",
       "      <td>7592870</td>\n",
       "      <td>2021-06-26 08:00:00</td>\n",
       "      <td>7592816.0</td>\n",
       "    </tr>\n",
       "    <tr>\n",
       "      <th>4</th>\n",
       "      <td>A002</td>\n",
       "      <td>R051</td>\n",
       "      <td>02-00-00</td>\n",
       "      <td>59 ST</td>\n",
       "      <td>2021-06-26 16:00:00</td>\n",
       "      <td>7592992</td>\n",
       "      <td>2021-06-26 12:00:00</td>\n",
       "      <td>7592870.0</td>\n",
       "    </tr>\n",
       "  </tbody>\n",
       "</table>\n",
       "</div>"
      ],
      "text/plain": [
       "    C/A  UNIT       SCP STATION           DATE_TIME  ENTRIES  \\\n",
       "0  A002  R051  02-00-00   59 ST 2021-06-26 00:00:00  7592792   \n",
       "1  A002  R051  02-00-00   59 ST 2021-06-26 04:00:00  7592804   \n",
       "2  A002  R051  02-00-00   59 ST 2021-06-26 08:00:00  7592816   \n",
       "3  A002  R051  02-00-00   59 ST 2021-06-26 12:00:00  7592870   \n",
       "4  A002  R051  02-00-00   59 ST 2021-06-26 16:00:00  7592992   \n",
       "\n",
       "            PREV_DATE  PREV_ENTRIES  \n",
       "0                 NaT           NaN  \n",
       "1 2021-06-26 00:00:00     7592792.0  \n",
       "2 2021-06-26 04:00:00     7592804.0  \n",
       "3 2021-06-26 08:00:00     7592816.0  \n",
       "4 2021-06-26 12:00:00     7592870.0  "
      ]
     },
     "execution_count": 11,
     "metadata": {},
     "output_type": "execute_result"
    }
   ],
   "source": [
    "turnstiles_daily.head()"
   ]
  },
  {
   "cell_type": "code",
   "execution_count": 12,
   "id": "0e05876e-c90d-400c-8313-278d10412f98",
   "metadata": {},
   "outputs": [],
   "source": [
    "# Drop NaN rows\n",
    "\n",
    "turnstiles_daily.dropna(subset=[\"PREV_DATE\"], axis=0, inplace=True)"
   ]
  },
  {
   "cell_type": "code",
   "execution_count": 13,
   "id": "95dee3df-cd9f-480f-bb5f-557716b6c974",
   "metadata": {},
   "outputs": [
    {
     "data": {
      "text/html": [
       "<div>\n",
       "<style scoped>\n",
       "    .dataframe tbody tr th:only-of-type {\n",
       "        vertical-align: middle;\n",
       "    }\n",
       "\n",
       "    .dataframe tbody tr th {\n",
       "        vertical-align: top;\n",
       "    }\n",
       "\n",
       "    .dataframe thead th {\n",
       "        text-align: right;\n",
       "    }\n",
       "</style>\n",
       "<table border=\"1\" class=\"dataframe\">\n",
       "  <thead>\n",
       "    <tr style=\"text-align: right;\">\n",
       "      <th></th>\n",
       "      <th>C/A</th>\n",
       "      <th>UNIT</th>\n",
       "      <th>SCP</th>\n",
       "      <th>STATION</th>\n",
       "      <th>DATE_TIME</th>\n",
       "      <th>ENTRIES</th>\n",
       "      <th>PREV_DATE</th>\n",
       "      <th>PREV_ENTRIES</th>\n",
       "    </tr>\n",
       "  </thead>\n",
       "  <tbody>\n",
       "    <tr>\n",
       "      <th>1</th>\n",
       "      <td>A002</td>\n",
       "      <td>R051</td>\n",
       "      <td>02-00-00</td>\n",
       "      <td>59 ST</td>\n",
       "      <td>2021-06-26 04:00:00</td>\n",
       "      <td>7592804</td>\n",
       "      <td>2021-06-26 00:00:00</td>\n",
       "      <td>7592792.0</td>\n",
       "    </tr>\n",
       "    <tr>\n",
       "      <th>2</th>\n",
       "      <td>A002</td>\n",
       "      <td>R051</td>\n",
       "      <td>02-00-00</td>\n",
       "      <td>59 ST</td>\n",
       "      <td>2021-06-26 08:00:00</td>\n",
       "      <td>7592816</td>\n",
       "      <td>2021-06-26 04:00:00</td>\n",
       "      <td>7592804.0</td>\n",
       "    </tr>\n",
       "    <tr>\n",
       "      <th>3</th>\n",
       "      <td>A002</td>\n",
       "      <td>R051</td>\n",
       "      <td>02-00-00</td>\n",
       "      <td>59 ST</td>\n",
       "      <td>2021-06-26 12:00:00</td>\n",
       "      <td>7592870</td>\n",
       "      <td>2021-06-26 08:00:00</td>\n",
       "      <td>7592816.0</td>\n",
       "    </tr>\n",
       "    <tr>\n",
       "      <th>4</th>\n",
       "      <td>A002</td>\n",
       "      <td>R051</td>\n",
       "      <td>02-00-00</td>\n",
       "      <td>59 ST</td>\n",
       "      <td>2021-06-26 16:00:00</td>\n",
       "      <td>7592992</td>\n",
       "      <td>2021-06-26 12:00:00</td>\n",
       "      <td>7592870.0</td>\n",
       "    </tr>\n",
       "    <tr>\n",
       "      <th>5</th>\n",
       "      <td>A002</td>\n",
       "      <td>R051</td>\n",
       "      <td>02-00-00</td>\n",
       "      <td>59 ST</td>\n",
       "      <td>2021-06-26 20:00:00</td>\n",
       "      <td>7593116</td>\n",
       "      <td>2021-06-26 16:00:00</td>\n",
       "      <td>7592992.0</td>\n",
       "    </tr>\n",
       "  </tbody>\n",
       "</table>\n",
       "</div>"
      ],
      "text/plain": [
       "    C/A  UNIT       SCP STATION           DATE_TIME  ENTRIES  \\\n",
       "1  A002  R051  02-00-00   59 ST 2021-06-26 04:00:00  7592804   \n",
       "2  A002  R051  02-00-00   59 ST 2021-06-26 08:00:00  7592816   \n",
       "3  A002  R051  02-00-00   59 ST 2021-06-26 12:00:00  7592870   \n",
       "4  A002  R051  02-00-00   59 ST 2021-06-26 16:00:00  7592992   \n",
       "5  A002  R051  02-00-00   59 ST 2021-06-26 20:00:00  7593116   \n",
       "\n",
       "            PREV_DATE  PREV_ENTRIES  \n",
       "1 2021-06-26 00:00:00     7592792.0  \n",
       "2 2021-06-26 04:00:00     7592804.0  \n",
       "3 2021-06-26 08:00:00     7592816.0  \n",
       "4 2021-06-26 12:00:00     7592870.0  \n",
       "5 2021-06-26 16:00:00     7592992.0  "
      ]
     },
     "execution_count": 13,
     "metadata": {},
     "output_type": "execute_result"
    }
   ],
   "source": [
    "turnstiles_daily.head()"
   ]
  },
  {
   "cell_type": "code",
   "execution_count": 14,
   "id": "8910ed51-ea8a-4b0a-9fc9-ac0830407e66",
   "metadata": {},
   "outputs": [],
   "source": [
    "# Function to determine the daily entries at each turnstile\n",
    "\n",
    "def get_daily_counts(row, max_counter):\n",
    "    counter = row[\"ENTRIES\"] - row[\"PREV_ENTRIES\"]\n",
    "    if counter < 0:\n",
    "        # Maybe counter is reversed?\n",
    "        counter = -counter\n",
    "    if counter > max_counter:\n",
    "        # Maybe counter was reset to 0? \n",
    "        #print(row[\"ENTRIES\"], row[\"PREV_ENTRIES\"])\n",
    "        counter = min(row[\"ENTRIES\"], row[\"PREV_ENTRIES\"])\n",
    "    if counter > max_counter:\n",
    "        # Check it again to make sure we're not still giving a counter that's too big\n",
    "        return 0\n",
    "    return counter"
   ]
  },
  {
   "cell_type": "code",
   "execution_count": 15,
   "id": "85843a44-4530-4294-99a0-a8e7a5aa97c0",
   "metadata": {},
   "outputs": [],
   "source": [
    "# Compute daily entries for each turnstile\n",
    "\n",
    "turnstiles_daily[\"DAILY_ENTRIES\"] = turnstiles_daily.apply(get_daily_counts, axis=1, max_counter=1000000)"
   ]
  },
  {
   "cell_type": "code",
   "execution_count": 16,
   "id": "7692de78-f76c-4b97-b7e5-7e3de4f66904",
   "metadata": {},
   "outputs": [],
   "source": [
    "# Group all the turnstiles at all stations\n",
    "\n",
    "stations_daily = turnstiles_daily.groupby([\"STATION\", \"DATE_TIME\"])[['DAILY_ENTRIES']].sum().reset_index()"
   ]
  },
  {
   "cell_type": "code",
   "execution_count": 17,
   "id": "129de5fd-f69f-42ea-8c7f-6f3a6d6535bb",
   "metadata": {},
   "outputs": [],
   "source": [
    "# Find the busiest stations\n",
    "\n",
    "busy_stations = stations_daily.groupby('STATION').sum()\\\n",
    "    .sort_values('DAILY_ENTRIES', ascending=False)\\\n",
    "    .reset_index()"
   ]
  },
  {
   "cell_type": "code",
   "execution_count": 18,
   "id": "02375d0b-d640-480f-881c-fc4b49c3fa35",
   "metadata": {},
   "outputs": [
    {
     "data": {
      "text/html": [
       "<div>\n",
       "<style scoped>\n",
       "    .dataframe tbody tr th:only-of-type {\n",
       "        vertical-align: middle;\n",
       "    }\n",
       "\n",
       "    .dataframe tbody tr th {\n",
       "        vertical-align: top;\n",
       "    }\n",
       "\n",
       "    .dataframe thead th {\n",
       "        text-align: right;\n",
       "    }\n",
       "</style>\n",
       "<table border=\"1\" class=\"dataframe\">\n",
       "  <thead>\n",
       "    <tr style=\"text-align: right;\">\n",
       "      <th></th>\n",
       "      <th>STATION</th>\n",
       "      <th>DAILY_ENTRIES</th>\n",
       "    </tr>\n",
       "  </thead>\n",
       "  <tbody>\n",
       "    <tr>\n",
       "      <th>0</th>\n",
       "      <td>JUNCTION BLVD</td>\n",
       "      <td>5612589.0</td>\n",
       "    </tr>\n",
       "    <tr>\n",
       "      <th>1</th>\n",
       "      <td>34 ST-PENN STA</td>\n",
       "      <td>4911439.0</td>\n",
       "    </tr>\n",
       "    <tr>\n",
       "      <th>2</th>\n",
       "      <td>FULTON ST</td>\n",
       "      <td>3871541.0</td>\n",
       "    </tr>\n",
       "    <tr>\n",
       "      <th>3</th>\n",
       "      <td>86 ST</td>\n",
       "      <td>3511439.0</td>\n",
       "    </tr>\n",
       "    <tr>\n",
       "      <th>4</th>\n",
       "      <td>PATH NEW WTC</td>\n",
       "      <td>3379610.0</td>\n",
       "    </tr>\n",
       "    <tr>\n",
       "      <th>5</th>\n",
       "      <td>JOURNAL SQUARE</td>\n",
       "      <td>3137842.0</td>\n",
       "    </tr>\n",
       "    <tr>\n",
       "      <th>6</th>\n",
       "      <td>34 ST-HERALD SQ</td>\n",
       "      <td>3102136.0</td>\n",
       "    </tr>\n",
       "    <tr>\n",
       "      <th>7</th>\n",
       "      <td>GRD CNTRL-42 ST</td>\n",
       "      <td>3015564.0</td>\n",
       "    </tr>\n",
       "    <tr>\n",
       "      <th>8</th>\n",
       "      <td>42 ST-PORT AUTH</td>\n",
       "      <td>2799339.0</td>\n",
       "    </tr>\n",
       "    <tr>\n",
       "      <th>9</th>\n",
       "      <td>72 ST</td>\n",
       "      <td>2790482.0</td>\n",
       "    </tr>\n",
       "    <tr>\n",
       "      <th>10</th>\n",
       "      <td>ST. GEORGE</td>\n",
       "      <td>2681080.0</td>\n",
       "    </tr>\n",
       "    <tr>\n",
       "      <th>11</th>\n",
       "      <td>THIRTY THIRD ST</td>\n",
       "      <td>2674791.0</td>\n",
       "    </tr>\n",
       "    <tr>\n",
       "      <th>12</th>\n",
       "      <td>23 ST</td>\n",
       "      <td>2653312.0</td>\n",
       "    </tr>\n",
       "    <tr>\n",
       "      <th>13</th>\n",
       "      <td>14 ST-UNION SQ</td>\n",
       "      <td>2550320.0</td>\n",
       "    </tr>\n",
       "    <tr>\n",
       "      <th>14</th>\n",
       "      <td>125 ST</td>\n",
       "      <td>2460260.0</td>\n",
       "    </tr>\n",
       "    <tr>\n",
       "      <th>15</th>\n",
       "      <td>TIMES SQ-42 ST</td>\n",
       "      <td>2308885.0</td>\n",
       "    </tr>\n",
       "    <tr>\n",
       "      <th>16</th>\n",
       "      <td>FLUSHING-MAIN</td>\n",
       "      <td>2196938.0</td>\n",
       "    </tr>\n",
       "    <tr>\n",
       "      <th>17</th>\n",
       "      <td>CITY / BUS</td>\n",
       "      <td>2137074.0</td>\n",
       "    </tr>\n",
       "    <tr>\n",
       "      <th>18</th>\n",
       "      <td>CANAL ST</td>\n",
       "      <td>2044397.0</td>\n",
       "    </tr>\n",
       "    <tr>\n",
       "      <th>19</th>\n",
       "      <td>JKSN HT-ROOSVLT</td>\n",
       "      <td>2018710.0</td>\n",
       "    </tr>\n",
       "  </tbody>\n",
       "</table>\n",
       "</div>"
      ],
      "text/plain": [
       "            STATION  DAILY_ENTRIES\n",
       "0     JUNCTION BLVD      5612589.0\n",
       "1    34 ST-PENN STA      4911439.0\n",
       "2         FULTON ST      3871541.0\n",
       "3             86 ST      3511439.0\n",
       "4      PATH NEW WTC      3379610.0\n",
       "5    JOURNAL SQUARE      3137842.0\n",
       "6   34 ST-HERALD SQ      3102136.0\n",
       "7   GRD CNTRL-42 ST      3015564.0\n",
       "8   42 ST-PORT AUTH      2799339.0\n",
       "9             72 ST      2790482.0\n",
       "10       ST. GEORGE      2681080.0\n",
       "11  THIRTY THIRD ST      2674791.0\n",
       "12            23 ST      2653312.0\n",
       "13   14 ST-UNION SQ      2550320.0\n",
       "14           125 ST      2460260.0\n",
       "15   TIMES SQ-42 ST      2308885.0\n",
       "16    FLUSHING-MAIN      2196938.0\n",
       "17       CITY / BUS      2137074.0\n",
       "18         CANAL ST      2044397.0\n",
       "19  JKSN HT-ROOSVLT      2018710.0"
      ]
     },
     "execution_count": 18,
     "metadata": {},
     "output_type": "execute_result"
    }
   ],
   "source": [
    "busy_stations.head(20)"
   ]
  },
  {
   "cell_type": "code",
   "execution_count": 19,
   "id": "126b6cc2-4591-4c5a-918f-1de2c228ed7c",
   "metadata": {},
   "outputs": [
    {
     "name": "stdout",
     "output_type": "stream",
     "text": [
      "<class 'pandas.core.frame.DataFrame'>\n",
      "RangeIndex: 379 entries, 0 to 378\n",
      "Data columns (total 2 columns):\n",
      " #   Column         Non-Null Count  Dtype  \n",
      "---  ------         --------------  -----  \n",
      " 0   STATION        379 non-null    object \n",
      " 1   DAILY_ENTRIES  379 non-null    float64\n",
      "dtypes: float64(1), object(1)\n",
      "memory usage: 6.0+ KB\n"
     ]
    }
   ],
   "source": [
    "busy_stations.info()"
   ]
  },
  {
   "cell_type": "code",
   "execution_count": 21,
   "id": "ae2f8428-4825-4471-a215-bc7637ffe624",
   "metadata": {},
   "outputs": [],
   "source": [
    "# Read in MTA spatial data\n",
    "\n",
    "stations_geo = pd.read_csv('data/DOITT_SUBWAY_STATION_01_13SEPT2010.csv')\n",
    "\n",
    "# Drop the unneeded columns\n",
    "\n",
    "stations_geo.drop(['URL','OBJECTID'], axis=1, inplace=True)\n",
    "\n",
    "# Format spatial dataframe for merging\n",
    "\n",
    "stations_geo.rename(columns={'NAME':'STATION'}, inplace=True)\n",
    "stations_geo['STATION'] = stations_geo['STATION'].str.upper()"
   ]
  },
  {
   "cell_type": "code",
   "execution_count": 22,
   "id": "bed66080-fa5b-4093-a571-1dbf8b69a3c7",
   "metadata": {},
   "outputs": [],
   "source": [
    "# Merge spatial data with busy_stations\n",
    "\n",
    "busy_stations_geo = pd.merge(busy_stations, stations_geo, on='STATION', how='left')\n",
    "busy_stations_geo_inner = pd.merge(busy_stations, stations_geo, on='STATION', how='inner')"
   ]
  },
  {
   "cell_type": "code",
   "execution_count": 23,
   "id": "71540a2e-f4e9-4fb0-ab1d-b9e7defd1146",
   "metadata": {},
   "outputs": [],
   "source": [
    "# Prepare busy_stations_geo for plotting with geopandas\n",
    "\n",
    "busy_stations_geo.the_geom = busy_stations_geo.the_geom.str.strip('POINT ')\n",
    "busy_stations_geo[['LONG','LAT']] = busy_stations_geo.the_geom.str.split(' ', expand=True)\n",
    "busy_stations_geo.LONG = busy_stations_geo.LONG.str.strip('(')\n",
    "busy_stations_geo.LONG = busy_stations_geo.LONG.astype(float)\n",
    "busy_stations_geo.LAT = busy_stations_geo.LAT.str.strip(')')\n",
    "busy_stations_geo.LAT = busy_stations_geo.LAT.astype(float)"
   ]
  },
  {
   "cell_type": "code",
   "execution_count": 24,
   "id": "854a51c4-31e7-46aa-ab30-86ff65da3c21",
   "metadata": {},
   "outputs": [],
   "source": [
    "# Create boroughs shapefile and initialize it\n",
    "\n",
    "boroughs = gpd.read_file('borough_shapes/geo_export_d86d1c64-637c-4b79-9310-4aa2d5aeefdb.shp')\n",
    "crs = {'init':'epsg:4326'}"
   ]
  },
  {
   "cell_type": "code",
   "execution_count": 25,
   "id": "cbe93096-3952-436e-8e16-748a4955149a",
   "metadata": {},
   "outputs": [],
   "source": [
    "# Create geometry for plot\n",
    "\n",
    "geometry = [Point(xy) for xy in zip(busy_stations_geo['LONG'], busy_stations_geo['LAT'])]"
   ]
  },
  {
   "cell_type": "code",
   "execution_count": 26,
   "id": "53b75d89-9db6-43a6-9941-e352e6ae2140",
   "metadata": {},
   "outputs": [
    {
     "name": "stderr",
     "output_type": "stream",
     "text": [
      "/home/mattiboi/anaconda3/lib/python3.8/site-packages/pyproj/crs/crs.py:131: FutureWarning: '+init=<authority>:<code>' syntax is deprecated. '<authority>:<code>' is the preferred initialization method. When making the change, be mindful of axis order changes: https://pyproj4.github.io/pyproj/stable/gotchas.html#axis-order-changes-in-proj-6\n",
      "  in_crs_string = _prepare_from_proj_string(in_crs_string)\n"
     ]
    },
    {
     "data": {
      "text/plain": [
       "<AxesSubplot:>"
      ]
     },
     "execution_count": 26,
     "metadata": {},
     "output_type": "execute_result"
    },
    {
     "data": {
      "image/png": "[encoded data removed]",
      "text/plain": [
       "<Figure size 1080x1080 with 1 Axes>"
      ]
     },
     "metadata": {},
     "output_type": "display_data"
    }
   ],
   "source": [
    "# Create geodataframe and map it\n",
    "\n",
    "geo_stations= gpd.GeoDataFrame(busy_stations_geo, crs=crs, geometry=geometry)\n",
    "\n",
    "fig, ax = plt.subplots(figsize=(15,15))\n",
    "boroughs.plot(ax=ax, alpha=0.5, color='grey')\n",
    "geo_stations['geometry'].plot(ax=ax, markersize=20, color='red')\n",
    "\n",
    "#fig.savefig('station_map')"
   ]
  },
  {
   "cell_type": "code",
   "execution_count": 27,
   "id": "ab54ed0f-4977-44cb-8dfa-0a5d3108056b",
   "metadata": {},
   "outputs": [],
   "source": [
    "# Find the busiest 20 stations that can be mapped with this data\n",
    "\n",
    "geo_stations.sort_values(by=['DAILY_ENTRIES'], inplace=True, ascending=False)\n",
    "\n",
    "# Drop duplicates\n",
    "\n",
    "geo_stations.drop_duplicates(subset='DAILY_ENTRIES', keep='first', inplace=True)\n",
    "\n",
    "top_20_analysis = geo_stations[:20]\n",
    "\n",
    "geo_stations.dropna(inplace=True)\n",
    "\n",
    "top_20_map = geo_stations[:20]"
   ]
  },
  {
   "cell_type": "code",
   "execution_count": 28,
   "id": "98c306d6-5393-49b9-b8d0-840cb2eaccbb",
   "metadata": {},
   "outputs": [
    {
     "data": {
      "text/plain": [
       "Text(110.95222121379967, 0.5, 'Latitude')"
      ]
     },
     "execution_count": 28,
     "metadata": {},
     "output_type": "execute_result"
    },
    {
     "data": {
      "image/png": "[encoded data removed]",
      "text/plain": [
       "<Figure size 1080x1080 with 1 Axes>"
      ]
     },
     "metadata": {},
     "output_type": "display_data"
    }
   ],
   "source": [
    "fig, ax = plt.subplots(figsize=(15,15))\n",
    "boroughs.plot(ax=ax, alpha=0.5, color='grey')\n",
    "top_20_map['geometry'].plot(ax=ax, markersize=20, color='red')\n",
    "plt.title('20 Busiest MTA Stations June - Sept 2021')\n",
    "plt.xlabel('Longitude')\n",
    "plt.ylabel('Latitude')\n",
    "#plt.savefig('mvp_map')"
   ]
  },
  {
   "cell_type": "code",
   "execution_count": 29,
   "id": "d0036f73-d41b-4b83-a06d-f6051eed9404",
   "metadata": {},
   "outputs": [
    {
     "name": "stderr",
     "output_type": "stream",
     "text": [
      "/home/mattiboi/anaconda3/lib/python3.8/site-packages/pandas/util/_decorators.py:311: SettingWithCopyWarning: \n",
      "A value is trying to be set on a copy of a slice from a DataFrame\n",
      "\n",
      "See the caveats in the documentation: https://pandas.pydata.org/pandas-docs/stable/user_guide/indexing.html#returning-a-view-versus-a-copy\n",
      "  return func(*args, **kwargs)\n"
     ]
    }
   ],
   "source": [
    "# Create a data mask with top_20 by station name\n",
    "\n",
    "survey_mask = list(top_20_analysis['STATION'])\n",
    "\n",
    "# Create a dataframe of the daily metrics for each station in top_20\n",
    "\n",
    "stations_daily_filtered = stations_daily[stations_daily['STATION'].isin(survey_mask)]\n",
    "busy_stations_filtered = busy_stations[busy_stations['STATION'].isin(survey_mask)]\n",
    "busy_stations_filtered.sort_values(by='STATION', inplace=True)"
   ]
  },
  {
   "cell_type": "code",
   "execution_count": 30,
   "id": "29133329-7487-4f59-a380-00ff0b103b59",
   "metadata": {},
   "outputs": [
    {
     "data": {
      "text/html": [
       "<div>\n",
       "<style scoped>\n",
       "    .dataframe tbody tr th:only-of-type {\n",
       "        vertical-align: middle;\n",
       "    }\n",
       "\n",
       "    .dataframe tbody tr th {\n",
       "        vertical-align: top;\n",
       "    }\n",
       "\n",
       "    .dataframe thead th {\n",
       "        text-align: right;\n",
       "    }\n",
       "</style>\n",
       "<table border=\"1\" class=\"dataframe\">\n",
       "  <thead>\n",
       "    <tr style=\"text-align: right;\">\n",
       "      <th></th>\n",
       "      <th>STATION</th>\n",
       "      <th>DAILY_ENTRIES</th>\n",
       "    </tr>\n",
       "  </thead>\n",
       "  <tbody>\n",
       "    <tr>\n",
       "      <th>14</th>\n",
       "      <td>125 ST</td>\n",
       "      <td>2460260.0</td>\n",
       "    </tr>\n",
       "    <tr>\n",
       "      <th>13</th>\n",
       "      <td>14 ST-UNION SQ</td>\n",
       "      <td>2550320.0</td>\n",
       "    </tr>\n",
       "    <tr>\n",
       "      <th>12</th>\n",
       "      <td>23 ST</td>\n",
       "      <td>2653312.0</td>\n",
       "    </tr>\n",
       "    <tr>\n",
       "      <th>6</th>\n",
       "      <td>34 ST-HERALD SQ</td>\n",
       "      <td>3102136.0</td>\n",
       "    </tr>\n",
       "    <tr>\n",
       "      <th>1</th>\n",
       "      <td>34 ST-PENN STA</td>\n",
       "      <td>4911439.0</td>\n",
       "    </tr>\n",
       "  </tbody>\n",
       "</table>\n",
       "</div>"
      ],
      "text/plain": [
       "            STATION  DAILY_ENTRIES\n",
       "14           125 ST      2460260.0\n",
       "13   14 ST-UNION SQ      2550320.0\n",
       "12            23 ST      2653312.0\n",
       "6   34 ST-HERALD SQ      3102136.0\n",
       "1    34 ST-PENN STA      4911439.0"
      ]
     },
     "execution_count": 30,
     "metadata": {},
     "output_type": "execute_result"
    }
   ],
   "source": [
    "busy_stations_filtered.head()\n",
    "\n",
    "# DAILY_ENTRIES should be renamed to something like 'TOTAL_ENTRIES' as this column is actually representing total entries over the observation period"
   ]
  },
  {
   "cell_type": "code",
   "execution_count": 31,
   "id": "ace5709a-c8a6-4829-b3b0-0645436cd25e",
   "metadata": {},
   "outputs": [
    {
     "data": {
      "text/html": [
       "<div>\n",
       "<style scoped>\n",
       "    .dataframe tbody tr th:only-of-type {\n",
       "        vertical-align: middle;\n",
       "    }\n",
       "\n",
       "    .dataframe tbody tr th {\n",
       "        vertical-align: top;\n",
       "    }\n",
       "\n",
       "    .dataframe thead th {\n",
       "        text-align: right;\n",
       "    }\n",
       "</style>\n",
       "<table border=\"1\" class=\"dataframe\">\n",
       "  <thead>\n",
       "    <tr style=\"text-align: right;\">\n",
       "      <th></th>\n",
       "      <th>STATION</th>\n",
       "      <th>DATE_TIME</th>\n",
       "      <th>DAILY_ENTRIES</th>\n",
       "    </tr>\n",
       "  </thead>\n",
       "  <tbody>\n",
       "    <tr>\n",
       "      <th>5537</th>\n",
       "      <td>125 ST</td>\n",
       "      <td>2021-06-26 04:00:00</td>\n",
       "      <td>318.0</td>\n",
       "    </tr>\n",
       "    <tr>\n",
       "      <th>5538</th>\n",
       "      <td>125 ST</td>\n",
       "      <td>2021-06-26 05:00:00</td>\n",
       "      <td>256.0</td>\n",
       "    </tr>\n",
       "    <tr>\n",
       "      <th>5539</th>\n",
       "      <td>125 ST</td>\n",
       "      <td>2021-06-26 08:00:00</td>\n",
       "      <td>633.0</td>\n",
       "    </tr>\n",
       "    <tr>\n",
       "      <th>5540</th>\n",
       "      <td>125 ST</td>\n",
       "      <td>2021-06-26 09:00:00</td>\n",
       "      <td>1386.0</td>\n",
       "    </tr>\n",
       "    <tr>\n",
       "      <th>5541</th>\n",
       "      <td>125 ST</td>\n",
       "      <td>2021-06-26 12:00:00</td>\n",
       "      <td>2066.0</td>\n",
       "    </tr>\n",
       "  </tbody>\n",
       "</table>\n",
       "</div>"
      ],
      "text/plain": [
       "     STATION           DATE_TIME  DAILY_ENTRIES\n",
       "5537  125 ST 2021-06-26 04:00:00          318.0\n",
       "5538  125 ST 2021-06-26 05:00:00          256.0\n",
       "5539  125 ST 2021-06-26 08:00:00          633.0\n",
       "5540  125 ST 2021-06-26 09:00:00         1386.0\n",
       "5541  125 ST 2021-06-26 12:00:00         2066.0"
      ]
     },
     "execution_count": 31,
     "metadata": {},
     "output_type": "execute_result"
    }
   ],
   "source": [
    "stations_daily_filtered.head()"
   ]
  },
  {
   "cell_type": "code",
   "execution_count": 32,
   "id": "f6d4d2d2-55bd-4e79-b9c9-44235c9087a3",
   "metadata": {},
   "outputs": [
    {
     "name": "stdout",
     "output_type": "stream",
     "text": [
      "<class 'pandas.core.frame.DataFrame'>\n",
      "Int64Index: 20 entries, 14 to 15\n",
      "Data columns (total 2 columns):\n",
      " #   Column         Non-Null Count  Dtype  \n",
      "---  ------         --------------  -----  \n",
      " 0   STATION        20 non-null     object \n",
      " 1   DAILY_ENTRIES  20 non-null     float64\n",
      "dtypes: float64(1), object(1)\n",
      "memory usage: 480.0+ bytes\n"
     ]
    }
   ],
   "source": [
    "busy_stations_filtered.reset_index()\n",
    "busy_stations_filtered.info()"
   ]
  },
  {
   "cell_type": "code",
   "execution_count": 33,
   "id": "8d1d61e0-f8e2-405c-8253-a00a37eeff7e",
   "metadata": {},
   "outputs": [],
   "source": [
    "# Find the average daily entrance count for each station in top_20\n",
    "\n",
    "avg_entries = stations_daily_filtered.groupby(['STATION'])['DAILY_ENTRIES'].mean()\n",
    "avg_entries = avg_entries.to_frame().reset_index()"
   ]
  },
  {
   "cell_type": "code",
   "execution_count": 34,
   "id": "a83e98f6-98c2-4f1e-ab38-47e6790a0ed9",
   "metadata": {},
   "outputs": [
    {
     "data": {
      "text/html": [
       "<div>\n",
       "<style scoped>\n",
       "    .dataframe tbody tr th:only-of-type {\n",
       "        vertical-align: middle;\n",
       "    }\n",
       "\n",
       "    .dataframe tbody tr th {\n",
       "        vertical-align: top;\n",
       "    }\n",
       "\n",
       "    .dataframe thead th {\n",
       "        text-align: right;\n",
       "    }\n",
       "</style>\n",
       "<table border=\"1\" class=\"dataframe\">\n",
       "  <thead>\n",
       "    <tr style=\"text-align: right;\">\n",
       "      <th></th>\n",
       "      <th>STATION</th>\n",
       "      <th>AVG_ENTRIES</th>\n",
       "    </tr>\n",
       "  </thead>\n",
       "  <tbody>\n",
       "    <tr>\n",
       "      <th>0</th>\n",
       "      <td>125 ST</td>\n",
       "      <td>2234.568574</td>\n",
       "    </tr>\n",
       "    <tr>\n",
       "      <th>1</th>\n",
       "      <td>14 ST-UNION SQ</td>\n",
       "      <td>4628.529946</td>\n",
       "    </tr>\n",
       "    <tr>\n",
       "      <th>2</th>\n",
       "      <td>23 ST</td>\n",
       "      <td>2418.698268</td>\n",
       "    </tr>\n",
       "    <tr>\n",
       "      <th>3</th>\n",
       "      <td>34 ST-HERALD SQ</td>\n",
       "      <td>5671.180987</td>\n",
       "    </tr>\n",
       "    <tr>\n",
       "      <th>4</th>\n",
       "      <td>34 ST-PENN STA</td>\n",
       "      <td>4452.800544</td>\n",
       "    </tr>\n",
       "  </tbody>\n",
       "</table>\n",
       "</div>"
      ],
      "text/plain": [
       "           STATION  AVG_ENTRIES\n",
       "0           125 ST  2234.568574\n",
       "1   14 ST-UNION SQ  4628.529946\n",
       "2            23 ST  2418.698268\n",
       "3  34 ST-HERALD SQ  5671.180987\n",
       "4   34 ST-PENN STA  4452.800544"
      ]
     },
     "execution_count": 34,
     "metadata": {},
     "output_type": "execute_result"
    }
   ],
   "source": [
    "# Prepare avg_entries to be merged with busy_stations_filtered\n",
    "\n",
    "avg_entries.rename(columns={'DAILY_ENTRIES':'AVG_ENTRIES'}, inplace=True)\n",
    "\n",
    "avg_entries.head()"
   ]
  },
  {
   "cell_type": "code",
   "execution_count": 35,
   "id": "cfdecede-3824-463c-9ea1-c5add39d14f1",
   "metadata": {},
   "outputs": [
    {
     "name": "stdout",
     "output_type": "stream",
     "text": [
      "<class 'pandas.core.frame.DataFrame'>\n",
      "Int64Index: 20 entries, 0 to 19\n",
      "Data columns (total 3 columns):\n",
      " #   Column         Non-Null Count  Dtype  \n",
      "---  ------         --------------  -----  \n",
      " 0   STATION        20 non-null     object \n",
      " 1   DAILY_ENTRIES  20 non-null     float64\n",
      " 2   AVG_ENTRIES    20 non-null     float64\n",
      "dtypes: float64(2), object(1)\n",
      "memory usage: 640.0+ bytes\n"
     ]
    }
   ],
   "source": [
    "# Merge busy_stations_filtered with avg_entries\n",
    "\n",
    "busy_stations_filtered = busy_stations_filtered.merge(avg_entries)\n",
    "\n",
    "busy_stations_filtered.info()"
   ]
  },
  {
   "cell_type": "code",
   "execution_count": 36,
   "id": "81020d92-b7f2-41e4-b841-4f027072936f",
   "metadata": {},
   "outputs": [
    {
     "data": {
      "text/plain": [
       "Text(0.5, 1.0, 'Busiest MTA Stations, July - Sept 2021')"
      ]
     },
     "execution_count": 36,
     "metadata": {},
     "output_type": "execute_result"
    },
    {
     "data": {
      "image/png": "[encoded data removed]",
      "text/plain": [
       "<Figure size 1440x576 with 1 Axes>"
      ]
     },
     "metadata": {},
     "output_type": "display_data"
    }
   ],
   "source": [
    "# Create a barplot of busy stations\n",
    "fig=plt.gcf()\n",
    "fig.set_size_inches(20,8)\n",
    "\n",
    "ax = sns.barplot(x=busy_stations_filtered['STATION'], y=busy_stations_filtered['AVG_ENTRIES'])\n",
    "ax.set_xlabel(xlabel='Station', fontsize = 20)\n",
    "ax.set_xticklabels(ax.get_xticklabels(),rotation = 30)\n",
    "ax.set_ylabel(ylabel='Average Daily Entries',fontsize = 20)\n",
    "ax.set_title(label='Busiest MTA Stations, July - Sept 2021', fontsize=26)\n",
    "\n",
    "#fig.savefig('busiest_stations')"
   ]
  },
  {
   "cell_type": "code",
   "execution_count": 37,
   "id": "0ae68a0c-6434-4395-a0df-466ca9a625f6",
   "metadata": {},
   "outputs": [
    {
     "name": "stderr",
     "output_type": "stream",
     "text": [
      "/home/mattiboi/anaconda3/lib/python3.8/site-packages/pandas/core/frame.py:5039: SettingWithCopyWarning: \n",
      "A value is trying to be set on a copy of a slice from a DataFrame\n",
      "\n",
      "See the caveats in the documentation: https://pandas.pydata.org/pandas-docs/stable/user_guide/indexing.html#returning-a-view-versus-a-copy\n",
      "  return super().rename(\n"
     ]
    },
    {
     "data": {
      "text/html": [
       "<div>\n",
       "<style scoped>\n",
       "    .dataframe tbody tr th:only-of-type {\n",
       "        vertical-align: middle;\n",
       "    }\n",
       "\n",
       "    .dataframe tbody tr th {\n",
       "        vertical-align: top;\n",
       "    }\n",
       "\n",
       "    .dataframe thead th {\n",
       "        text-align: right;\n",
       "    }\n",
       "</style>\n",
       "<table border=\"1\" class=\"dataframe\">\n",
       "  <thead>\n",
       "    <tr style=\"text-align: right;\">\n",
       "      <th></th>\n",
       "      <th>STATION</th>\n",
       "      <th>DATE_TIME</th>\n",
       "      <th>HOURLY_ENTRIES</th>\n",
       "    </tr>\n",
       "  </thead>\n",
       "  <tbody>\n",
       "    <tr>\n",
       "      <th>5537</th>\n",
       "      <td>125 ST</td>\n",
       "      <td>2021-06-26 04:00:00</td>\n",
       "      <td>318.0</td>\n",
       "    </tr>\n",
       "    <tr>\n",
       "      <th>5538</th>\n",
       "      <td>125 ST</td>\n",
       "      <td>2021-06-26 05:00:00</td>\n",
       "      <td>256.0</td>\n",
       "    </tr>\n",
       "    <tr>\n",
       "      <th>5539</th>\n",
       "      <td>125 ST</td>\n",
       "      <td>2021-06-26 08:00:00</td>\n",
       "      <td>633.0</td>\n",
       "    </tr>\n",
       "    <tr>\n",
       "      <th>5540</th>\n",
       "      <td>125 ST</td>\n",
       "      <td>2021-06-26 09:00:00</td>\n",
       "      <td>1386.0</td>\n",
       "    </tr>\n",
       "    <tr>\n",
       "      <th>5541</th>\n",
       "      <td>125 ST</td>\n",
       "      <td>2021-06-26 12:00:00</td>\n",
       "      <td>2066.0</td>\n",
       "    </tr>\n",
       "  </tbody>\n",
       "</table>\n",
       "</div>"
      ],
      "text/plain": [
       "     STATION           DATE_TIME  HOURLY_ENTRIES\n",
       "5537  125 ST 2021-06-26 04:00:00           318.0\n",
       "5538  125 ST 2021-06-26 05:00:00           256.0\n",
       "5539  125 ST 2021-06-26 08:00:00           633.0\n",
       "5540  125 ST 2021-06-26 09:00:00          1386.0\n",
       "5541  125 ST 2021-06-26 12:00:00          2066.0"
      ]
     },
     "execution_count": 37,
     "metadata": {},
     "output_type": "execute_result"
    }
   ],
   "source": [
    "# Prepare stations_daily_filtered for timeseries plotting\n",
    "\n",
    "stations_daily_filtered.rename(columns={'DAILY_ENTRIES':'HOURLY_ENTRIES'}, inplace=True)\n",
    "\n",
    "stations_daily_filtered.head()"
   ]
  },
  {
   "cell_type": "code",
   "execution_count": 38,
   "id": "734584c7-aecd-4e72-87b7-ba615dbbe98b",
   "metadata": {},
   "outputs": [
    {
     "name": "stderr",
     "output_type": "stream",
     "text": [
      "/tmp/ipykernel_296470/915419597.py:3: SettingWithCopyWarning: \n",
      "A value is trying to be set on a copy of a slice from a DataFrame.\n",
      "Try using .loc[row_indexer,col_indexer] = value instead\n",
      "\n",
      "See the caveats in the documentation: https://pandas.pydata.org/pandas-docs/stable/user_guide/indexing.html#returning-a-view-versus-a-copy\n",
      "  stations_daily_filtered['DAY'] = stations_daily_filtered['DATE_TIME'].dt.day_name()\n",
      "/tmp/ipykernel_296470/915419597.py:4: SettingWithCopyWarning: \n",
      "A value is trying to be set on a copy of a slice from a DataFrame.\n",
      "Try using .loc[row_indexer,col_indexer] = value instead\n",
      "\n",
      "See the caveats in the documentation: https://pandas.pydata.org/pandas-docs/stable/user_guide/indexing.html#returning-a-view-versus-a-copy\n",
      "  stations_daily_filtered['TIME'] = stations_daily_filtered['DATE_TIME'].dt.time\n",
      "/tmp/ipykernel_296470/915419597.py:5: SettingWithCopyWarning: \n",
      "A value is trying to be set on a copy of a slice from a DataFrame.\n",
      "Try using .loc[row_indexer,col_indexer] = value instead\n",
      "\n",
      "See the caveats in the documentation: https://pandas.pydata.org/pandas-docs/stable/user_guide/indexing.html#returning-a-view-versus-a-copy\n",
      "  stations_daily_filtered['MONTH'] = stations_daily_filtered['DATE_TIME'].dt.month\n",
      "/tmp/ipykernel_296470/915419597.py:6: FutureWarning: Series.dt.weekofyear and Series.dt.week have been deprecated.  Please use Series.dt.isocalendar().week instead.\n",
      "  stations_daily_filtered['WEEK'] = stations_daily_filtered['DATE_TIME'].dt.week\n",
      "/tmp/ipykernel_296470/915419597.py:6: SettingWithCopyWarning: \n",
      "A value is trying to be set on a copy of a slice from a DataFrame.\n",
      "Try using .loc[row_indexer,col_indexer] = value instead\n",
      "\n",
      "See the caveats in the documentation: https://pandas.pydata.org/pandas-docs/stable/user_guide/indexing.html#returning-a-view-versus-a-copy\n",
      "  stations_daily_filtered['WEEK'] = stations_daily_filtered['DATE_TIME'].dt.week\n"
     ]
    }
   ],
   "source": [
    "# Applications with datetime columns\n",
    "\n",
    "stations_daily_filtered['DAY'] = stations_daily_filtered['DATE_TIME'].dt.day_name()\n",
    "stations_daily_filtered['TIME'] = stations_daily_filtered['DATE_TIME'].dt.time\n",
    "stations_daily_filtered['MONTH'] = stations_daily_filtered['DATE_TIME'].dt.month\n",
    "stations_daily_filtered['WEEK'] = stations_daily_filtered['DATE_TIME'].dt.week"
   ]
  },
  {
   "cell_type": "code",
   "execution_count": 39,
   "id": "d388b8aa-261c-4c68-945f-85e2b1937802",
   "metadata": {},
   "outputs": [],
   "source": [
    "#stations_daily_filtered.head(50)"
   ]
  },
  {
   "cell_type": "code",
   "execution_count": 40,
   "id": "c0cfe5a4-7d74-459e-b725-b4caae0f32e3",
   "metadata": {},
   "outputs": [],
   "source": [
    "#stations_daily_filtered.info()"
   ]
  },
  {
   "cell_type": "code",
   "execution_count": 41,
   "id": "ee412582-27f3-4b05-ac6b-721f49e5f63f",
   "metadata": {},
   "outputs": [],
   "source": [
    "# Create filtered_stations_grouped for plotting \n",
    "filtered_stations_grouped = stations_daily_filtered.groupby(['STATION','DAY'])[['HOURLY_ENTRIES']].sum().reset_index()\n",
    "\n",
    "#Prepare filtered_stations_group by renaming columns and ordering weekdays correctly\n",
    "\n",
    "filtered_stations_grouped.rename(columns={'HOURLY_ENTRIES':'TOTAL_OBSERVED_ENTRIES'}, inplace=True)\n",
    "filtered_stations_grouped['WEEKDAY_ORDERED'] = pd.Categorical(filtered_stations_grouped['DAY'], \n",
    "                                                              categories=['Monday','Tuesday','Wednesday','Thursday','Friday','Saturday','Sunday'], ordered=True)"
   ]
  },
  {
   "cell_type": "code",
   "execution_count": 42,
   "id": "08cce886-e3c3-499d-9d4a-c7c9647f5675",
   "metadata": {},
   "outputs": [
    {
     "data": {
      "text/html": [
       "<div>\n",
       "<style scoped>\n",
       "    .dataframe tbody tr th:only-of-type {\n",
       "        vertical-align: middle;\n",
       "    }\n",
       "\n",
       "    .dataframe tbody tr th {\n",
       "        vertical-align: top;\n",
       "    }\n",
       "\n",
       "    .dataframe thead th {\n",
       "        text-align: right;\n",
       "    }\n",
       "</style>\n",
       "<table border=\"1\" class=\"dataframe\">\n",
       "  <thead>\n",
       "    <tr style=\"text-align: right;\">\n",
       "      <th></th>\n",
       "      <th>STATION</th>\n",
       "      <th>DAY</th>\n",
       "      <th>TOTAL_OBSERVED_ENTRIES</th>\n",
       "      <th>WEEKDAY_ORDERED</th>\n",
       "    </tr>\n",
       "  </thead>\n",
       "  <tbody>\n",
       "    <tr>\n",
       "      <th>0</th>\n",
       "      <td>125 ST</td>\n",
       "      <td>Friday</td>\n",
       "      <td>402395.0</td>\n",
       "      <td>Friday</td>\n",
       "    </tr>\n",
       "    <tr>\n",
       "      <th>1</th>\n",
       "      <td>125 ST</td>\n",
       "      <td>Monday</td>\n",
       "      <td>358864.0</td>\n",
       "      <td>Monday</td>\n",
       "    </tr>\n",
       "    <tr>\n",
       "      <th>2</th>\n",
       "      <td>125 ST</td>\n",
       "      <td>Saturday</td>\n",
       "      <td>286828.0</td>\n",
       "      <td>Saturday</td>\n",
       "    </tr>\n",
       "    <tr>\n",
       "      <th>3</th>\n",
       "      <td>125 ST</td>\n",
       "      <td>Sunday</td>\n",
       "      <td>232793.0</td>\n",
       "      <td>Sunday</td>\n",
       "    </tr>\n",
       "    <tr>\n",
       "      <th>4</th>\n",
       "      <td>125 ST</td>\n",
       "      <td>Thursday</td>\n",
       "      <td>384214.0</td>\n",
       "      <td>Thursday</td>\n",
       "    </tr>\n",
       "    <tr>\n",
       "      <th>5</th>\n",
       "      <td>125 ST</td>\n",
       "      <td>Tuesday</td>\n",
       "      <td>396579.0</td>\n",
       "      <td>Tuesday</td>\n",
       "    </tr>\n",
       "    <tr>\n",
       "      <th>6</th>\n",
       "      <td>125 ST</td>\n",
       "      <td>Wednesday</td>\n",
       "      <td>398587.0</td>\n",
       "      <td>Wednesday</td>\n",
       "    </tr>\n",
       "    <tr>\n",
       "      <th>7</th>\n",
       "      <td>14 ST-UNION SQ</td>\n",
       "      <td>Friday</td>\n",
       "      <td>412807.0</td>\n",
       "      <td>Friday</td>\n",
       "    </tr>\n",
       "    <tr>\n",
       "      <th>8</th>\n",
       "      <td>14 ST-UNION SQ</td>\n",
       "      <td>Monday</td>\n",
       "      <td>352286.0</td>\n",
       "      <td>Monday</td>\n",
       "    </tr>\n",
       "    <tr>\n",
       "      <th>9</th>\n",
       "      <td>14 ST-UNION SQ</td>\n",
       "      <td>Saturday</td>\n",
       "      <td>329310.0</td>\n",
       "      <td>Saturday</td>\n",
       "    </tr>\n",
       "    <tr>\n",
       "      <th>10</th>\n",
       "      <td>14 ST-UNION SQ</td>\n",
       "      <td>Sunday</td>\n",
       "      <td>256109.0</td>\n",
       "      <td>Sunday</td>\n",
       "    </tr>\n",
       "    <tr>\n",
       "      <th>11</th>\n",
       "      <td>14 ST-UNION SQ</td>\n",
       "      <td>Thursday</td>\n",
       "      <td>388462.0</td>\n",
       "      <td>Thursday</td>\n",
       "    </tr>\n",
       "    <tr>\n",
       "      <th>12</th>\n",
       "      <td>14 ST-UNION SQ</td>\n",
       "      <td>Tuesday</td>\n",
       "      <td>395021.0</td>\n",
       "      <td>Tuesday</td>\n",
       "    </tr>\n",
       "    <tr>\n",
       "      <th>13</th>\n",
       "      <td>14 ST-UNION SQ</td>\n",
       "      <td>Wednesday</td>\n",
       "      <td>416325.0</td>\n",
       "      <td>Wednesday</td>\n",
       "    </tr>\n",
       "    <tr>\n",
       "      <th>14</th>\n",
       "      <td>23 ST</td>\n",
       "      <td>Friday</td>\n",
       "      <td>437338.0</td>\n",
       "      <td>Friday</td>\n",
       "    </tr>\n",
       "  </tbody>\n",
       "</table>\n",
       "</div>"
      ],
      "text/plain": [
       "           STATION        DAY  TOTAL_OBSERVED_ENTRIES WEEKDAY_ORDERED\n",
       "0           125 ST     Friday                402395.0          Friday\n",
       "1           125 ST     Monday                358864.0          Monday\n",
       "2           125 ST   Saturday                286828.0        Saturday\n",
       "3           125 ST     Sunday                232793.0          Sunday\n",
       "4           125 ST   Thursday                384214.0        Thursday\n",
       "5           125 ST    Tuesday                396579.0         Tuesday\n",
       "6           125 ST  Wednesday                398587.0       Wednesday\n",
       "7   14 ST-UNION SQ     Friday                412807.0          Friday\n",
       "8   14 ST-UNION SQ     Monday                352286.0          Monday\n",
       "9   14 ST-UNION SQ   Saturday                329310.0        Saturday\n",
       "10  14 ST-UNION SQ     Sunday                256109.0          Sunday\n",
       "11  14 ST-UNION SQ   Thursday                388462.0        Thursday\n",
       "12  14 ST-UNION SQ    Tuesday                395021.0         Tuesday\n",
       "13  14 ST-UNION SQ  Wednesday                416325.0       Wednesday\n",
       "14           23 ST     Friday                437338.0          Friday"
      ]
     },
     "execution_count": 42,
     "metadata": {},
     "output_type": "execute_result"
    }
   ],
   "source": [
    "filtered_stations_grouped.head(15)"
   ]
  },
  {
   "cell_type": "code",
   "execution_count": 43,
   "id": "11204fcb-460e-452b-aedb-577640c5b8d2",
   "metadata": {},
   "outputs": [
    {
     "data": {
      "text/plain": [
       "[datetime.datetime(1900, 1, 1, 0, 0),\n",
       " datetime.datetime(1900, 1, 1, 6, 0),\n",
       " datetime.datetime(1900, 1, 1, 12, 0),\n",
       " datetime.datetime(1900, 1, 1, 18, 0),\n",
       " datetime.datetime(1900, 1, 1, 23, 59, 59)]"
      ]
     },
     "execution_count": 43,
     "metadata": {},
     "output_type": "execute_result"
    }
   ],
   "source": [
    "# Binning 'TIME' of filtered_stations_grouped:\n",
    "\n",
    "time_bins = ['00:00:00','06:00:00','12:00:00','18:00:00','23:59:59']\n",
    "TRAFFIC_CATEGORY = ['Midnight to 6am','6am to Noon','Noon to 6pm','6pm to Midnight']\n",
    "#filtered_stations_grouped['TIME'] = pd.to_datetime(filtered_stations_grouped['TIME'], format='%H:%M:%S').dt.time\n",
    "\n",
    "\n",
    "conversion = []\n",
    "\n",
    "for i in time_bins:\n",
    "    i = datetime.datetime.strptime(i, '%H:%M:%S')\n",
    "    conversion.append(i)\n",
    "    \n",
    "conversion\n",
    "\n",
    "# not helpful"
   ]
  },
  {
   "cell_type": "code",
   "execution_count": 44,
   "id": "0b2335bb-63bd-4f69-8c07-7e1874db3ff3",
   "metadata": {},
   "outputs": [],
   "source": [
    "#filtered_stations_grouped.info()"
   ]
  },
  {
   "cell_type": "code",
   "execution_count": 45,
   "id": "2e53e4d5-3b18-4391-80f2-095176b8538e",
   "metadata": {},
   "outputs": [],
   "source": [
    "#filtered_stations_grouped['TRAFFIC_CATEGORY'] = pd.cut(filtered_stations_grouped['DATE_TIME'], bins=conversion, labels=TRAFFIC_CATEGORY, right=False)"
   ]
  },
  {
   "cell_type": "code",
   "execution_count": 46,
   "id": "ce999bed-dd00-4396-84be-ff862250692f",
   "metadata": {},
   "outputs": [],
   "source": [
    "#filtered_stations_grouped.head(30)"
   ]
  },
  {
   "cell_type": "code",
   "execution_count": 47,
   "id": "e33765b0-5a35-4334-bba7-f0fdda972ad4",
   "metadata": {
    "jupyter": {
     "source_hidden": true
    },
    "tags": []
   },
   "outputs": [],
   "source": [
    "#filtered_stations_grouped.info()"
   ]
  },
  {
   "cell_type": "code",
   "execution_count": 48,
   "id": "51d2502d-92b9-4fd7-ba36-9c80f15dcc59",
   "metadata": {},
   "outputs": [
    {
     "data": {
      "text/plain": [
       "Text(0.5, 1.0, 'Busiest MTA Station Traffic By Weekday')"
      ]
     },
     "execution_count": 48,
     "metadata": {},
     "output_type": "execute_result"
    },
    {
     "data": {
      "image/png": "[encoded data removed]",
      "text/plain": [
       "<Figure size 1440x576 with 1 Axes>"
      ]
     },
     "metadata": {},
     "output_type": "display_data"
    }
   ],
   "source": [
    "# Create a lineplot of cumulative entries for each station by each weekday\n",
    "fig=plt.gcf()\n",
    "fig.set_size_inches(20,8)\n",
    "\n",
    "ax = sns.barplot(x='WEEKDAY_ORDERED', y='TOTAL_OBSERVED_ENTRIES', hue='STATION', data=filtered_stations_grouped)\n",
    "ax.set_xlabel(xlabel='Weekday', fontsize = 20)\n",
    "ax.set_ylabel(ylabel='Entries Observed',fontsize = 20)\n",
    "ax.set_title(label='Busiest MTA Station Traffic By Weekday', fontsize=26)\n",
    "\n",
    "#fig.savefig('station_traffic_by_weekday')"
   ]
  },
  {
   "cell_type": "code",
   "execution_count": 49,
   "id": "14d4bdff-ca85-4b14-87eb-b0564a84eb2e",
   "metadata": {},
   "outputs": [],
   "source": [
    "# How much funding could be generated by increasing fare rates? The current fare is generally $2.75\n",
    "\n",
    "fare = 2.75\n",
    "inc_25c = .25\n",
    "\n",
    "avg_entries_all_stations = stations_daily.groupby(['STATION'])['DAILY_ENTRIES'].mean()\n",
    "avg_entries_all_stations = avg_entries_all_stations.to_frame().reset_index()\n",
    "avg_entries_all_stations.rename(columns={'DAILY_ENTRIES':'AVG_ENTRIES'}, inplace=True)"
   ]
  },
  {
   "cell_type": "code",
   "execution_count": 50,
   "id": "db0d3961-0abe-4c33-bdc6-cc6a26057e73",
   "metadata": {},
   "outputs": [
    {
     "name": "stdout",
     "output_type": "stream",
     "text": [
      "  STATION  AVG_ENTRIES\n",
      "9  125 ST  2234.568574\n",
      "  STATION  DAILY_ENTRIES  AVG_ENTRIES\n",
      "0  125 ST      2460260.0  2234.568574\n",
      "          STATION  AVG_ENTRIES\n",
      "315  PATH NEW WTC   145.578721\n",
      "         STATION  DAILY_ENTRIES  AVG_ENTRIES\n",
      "16  PATH NEW WTC      3379610.0   145.578721\n",
      "         STATION  AVG_ENTRIES\n",
      "2  103 ST-CORONA  1682.699634\n",
      "Empty DataFrame\n",
      "Columns: [STATION, DAILY_ENTRIES, AVG_ENTRIES]\n",
      "Index: []\n"
     ]
    }
   ],
   "source": [
    "# Check to see that the math is working correctly\n",
    "\n",
    "print(avg_entries_all_stations[avg_entries_all_stations['STATION']=='125 ST'])\n",
    "print(busy_stations_filtered[busy_stations_filtered['STATION']=='125 ST'])\n",
    "\n",
    "print(avg_entries_all_stations[avg_entries_all_stations['STATION']=='PATH NEW WTC'])\n",
    "print(busy_stations_filtered[busy_stations_filtered['STATION']=='PATH NEW WTC'])\n",
    "\n",
    "print(avg_entries_all_stations[avg_entries_all_stations['STATION']=='103 ST-CORONA'])\n",
    "print(busy_stations_filtered[busy_stations_filtered['STATION']=='103 ST-CORONA'])\n",
    "\n",
    "#these print-outs are all as expected"
   ]
  },
  {
   "cell_type": "code",
   "execution_count": 51,
   "id": "a56ed189-5762-4678-bc25-ef171d91d0d4",
   "metadata": {},
   "outputs": [
    {
     "name": "stdout",
     "output_type": "stream",
     "text": [
      "<class 'pandas.core.frame.DataFrame'>\n",
      "RangeIndex: 379 entries, 0 to 378\n",
      "Data columns (total 2 columns):\n",
      " #   Column       Non-Null Count  Dtype  \n",
      "---  ------       --------------  -----  \n",
      " 0   STATION      379 non-null    object \n",
      " 1   AVG_ENTRIES  379 non-null    float64\n",
      "dtypes: float64(1), object(1)\n",
      "memory usage: 6.0+ KB\n"
     ]
    }
   ],
   "source": [
    "avg_entries_all_stations.info()"
   ]
  },
  {
   "cell_type": "code",
   "execution_count": 52,
   "id": "bdc72d2a-fb6b-42a5-b0b8-c7169c43d3a8",
   "metadata": {},
   "outputs": [],
   "source": [
    "# Calculate the current average daily revenue for all stations based on a fare of $2.75\n",
    "\n",
    "avg_entries_all_stations['AVG_REVENUE'] = avg_entries_all_stations['AVG_ENTRIES']*fare\n",
    "\n",
    "# Calculate the average daily revenue for each station if fares were increased $0.25\n",
    "\n",
    "avg_entries_all_stations['RATE+.25 REVENUE'] = avg_entries_all_stations['AVG_ENTRIES']*(fare+inc_25c)\n",
    "\n",
    "# Calculate the average daily revenue for each station if fares were increased 10%\n",
    "\n",
    "avg_entries_all_stations['RATE+10% REVENUE'] = avg_entries_all_stations['AVG_ENTRIES']*(fare+(fare*0.1))"
   ]
  },
  {
   "cell_type": "code",
   "execution_count": 53,
   "id": "9ea8379f-90fc-4b6f-8836-4b4d6fb95c6c",
   "metadata": {},
   "outputs": [
    {
     "name": "stdout",
     "output_type": "stream",
     "text": [
      "The total revenue for the observed period is $806091. Annually, it is approximately $3224364.\n"
     ]
    }
   ],
   "source": [
    "# Calculate the total revenue right now\n",
    "\n",
    "baseline_revenue = avg_entries_all_stations['AVG_REVENUE'].sum()\n",
    "print(f'The total revenue for the observed period is ${round(baseline_revenue)}. Annually, it is approximately ${round(baseline_revenue)*4}.')"
   ]
  },
  {
   "cell_type": "code",
   "execution_count": 54,
   "id": "d1ba4101-16ec-4516-aa85-aeb2ed5af52d",
   "metadata": {},
   "outputs": [
    {
     "name": "stdout",
     "output_type": "stream",
     "text": [
      "The projected revenue for the observed period, if fares were increased $0.25, is $879372. Annually, it is approximately $3517488.\n",
      "The annual funding generated by this increase is approximately $293124.\n"
     ]
    }
   ],
   "source": [
    "# Calculate the projected revenue if fares were increased $0.25\n",
    "\n",
    "inc_25c_revenue = avg_entries_all_stations['RATE+.25 REVENUE'].sum()\n",
    "\n",
    "print(f'The projected revenue for the observed period, if fares were increased $0.25, is ${round(inc_25c_revenue)}. Annually, it is approximately ${round(inc_25c_revenue)*4}.')\n",
    "print(f'The annual funding generated by this increase is approximately ${round((inc_25c_revenue*4)-(baseline_revenue*4))}.')"
   ]
  },
  {
   "cell_type": "code",
   "execution_count": 55,
   "id": "67e43ccf-9887-4fec-9cef-bd654f062167",
   "metadata": {},
   "outputs": [
    {
     "name": "stdout",
     "output_type": "stream",
     "text": [
      "The projected revenue for the observed period, if fares were increased 10%, is $886700. Annually, it is approximately $3546800.\n",
      "The annual funding generated by this increase is approximately $322436.\n"
     ]
    }
   ],
   "source": [
    "# Calculate the projected revenue if fares were increased 10%\n",
    "\n",
    "ten_percent_inc_revenue = avg_entries_all_stations['RATE+10% REVENUE'].sum()\n",
    "\n",
    "print(f'The projected revenue for the observed period, if fares were increased 10%, is ${round(ten_percent_inc_revenue)}. Annually, it is approximately ${round(ten_percent_inc_revenue)*4}.')\n",
    "print(f'The annual funding generated by this increase is approximately ${round((ten_percent_inc_revenue*4)-(baseline_revenue*4))}.')"
   ]
  },
  {
   "cell_type": "code",
   "execution_count": 56,
   "id": "42ea3c75-2b5a-4dd9-be3c-e78377bb3e74",
   "metadata": {},
   "outputs": [
    {
     "data": {
      "text/plain": [
       "293123.97907659516"
      ]
     },
     "execution_count": 56,
     "metadata": {},
     "output_type": "execute_result"
    }
   ],
   "source": [
    "# Why have I seen the number 293124 before?\n",
    "\n",
    "avg_daily_ridership = avg_entries_all_stations['AVG_ENTRIES'].sum()\n",
    "\n",
    "avg_daily_ridership"
   ]
  },
  {
   "cell_type": "code",
   "execution_count": 57,
   "id": "d290e17e-3f05-4bac-8c6f-cef8a2b08839",
   "metadata": {},
   "outputs": [
    {
     "name": "stdout",
     "output_type": "stream",
     "text": [
      "True\n"
     ]
    }
   ],
   "source": [
    "# Why does the average daily ridership exactly match the annual funds generated from a rate increase of 25 cents??\n",
    "\n",
    "print(round(avg_daily_ridership) == round((inc_25c_revenue*4)-(baseline_revenue*4)))"
   ]
  },
  {
   "cell_type": "code",
   "execution_count": 58,
   "id": "399beef2-4e33-403e-b8ed-9964db7a039c",
   "metadata": {},
   "outputs": [
    {
     "data": {
      "text/html": [
       "<div>\n",
       "<style scoped>\n",
       "    .dataframe tbody tr th:only-of-type {\n",
       "        vertical-align: middle;\n",
       "    }\n",
       "\n",
       "    .dataframe tbody tr th {\n",
       "        vertical-align: top;\n",
       "    }\n",
       "\n",
       "    .dataframe thead th {\n",
       "        text-align: right;\n",
       "    }\n",
       "</style>\n",
       "<table border=\"1\" class=\"dataframe\">\n",
       "  <thead>\n",
       "    <tr style=\"text-align: right;\">\n",
       "      <th></th>\n",
       "      <th>STATION</th>\n",
       "      <th>AVG_ENTRIES</th>\n",
       "      <th>AVG_REVENUE</th>\n",
       "      <th>RATE+.25 REVENUE</th>\n",
       "      <th>RATE+10% REVENUE</th>\n",
       "    </tr>\n",
       "  </thead>\n",
       "  <tbody>\n",
       "    <tr>\n",
       "      <th>0</th>\n",
       "      <td>1 AV</td>\n",
       "      <td>1158.196639</td>\n",
       "      <td>3185.040756</td>\n",
       "      <td>3474.589916</td>\n",
       "      <td>3503.544832</td>\n",
       "    </tr>\n",
       "    <tr>\n",
       "      <th>1</th>\n",
       "      <td>103 ST</td>\n",
       "      <td>1755.734545</td>\n",
       "      <td>4828.270000</td>\n",
       "      <td>5267.203636</td>\n",
       "      <td>5311.097000</td>\n",
       "    </tr>\n",
       "    <tr>\n",
       "      <th>2</th>\n",
       "      <td>103 ST-CORONA</td>\n",
       "      <td>1682.699634</td>\n",
       "      <td>4627.423993</td>\n",
       "      <td>5048.098901</td>\n",
       "      <td>5090.166392</td>\n",
       "    </tr>\n",
       "    <tr>\n",
       "      <th>3</th>\n",
       "      <td>104 ST</td>\n",
       "      <td>1183.075092</td>\n",
       "      <td>3253.456502</td>\n",
       "      <td>3549.225275</td>\n",
       "      <td>3578.802152</td>\n",
       "    </tr>\n",
       "    <tr>\n",
       "      <th>4</th>\n",
       "      <td>110 ST</td>\n",
       "      <td>635.374312</td>\n",
       "      <td>1747.279358</td>\n",
       "      <td>1906.122936</td>\n",
       "      <td>1922.007294</td>\n",
       "    </tr>\n",
       "    <tr>\n",
       "      <th>5</th>\n",
       "      <td>111 ST</td>\n",
       "      <td>672.048314</td>\n",
       "      <td>1848.132862</td>\n",
       "      <td>2016.144941</td>\n",
       "      <td>2032.946149</td>\n",
       "    </tr>\n",
       "    <tr>\n",
       "      <th>6</th>\n",
       "      <td>116 ST</td>\n",
       "      <td>2008.721925</td>\n",
       "      <td>5523.985294</td>\n",
       "      <td>6026.165775</td>\n",
       "      <td>6076.383824</td>\n",
       "    </tr>\n",
       "    <tr>\n",
       "      <th>7</th>\n",
       "      <td>116 ST-COLUMBIA</td>\n",
       "      <td>586.955963</td>\n",
       "      <td>1614.128899</td>\n",
       "      <td>1760.867890</td>\n",
       "      <td>1775.541789</td>\n",
       "    </tr>\n",
       "    <tr>\n",
       "      <th>8</th>\n",
       "      <td>121 ST</td>\n",
       "      <td>207.237319</td>\n",
       "      <td>569.902627</td>\n",
       "      <td>621.711957</td>\n",
       "      <td>626.892889</td>\n",
       "    </tr>\n",
       "    <tr>\n",
       "      <th>9</th>\n",
       "      <td>125 ST</td>\n",
       "      <td>2234.568574</td>\n",
       "      <td>6145.063579</td>\n",
       "      <td>6703.705722</td>\n",
       "      <td>6759.569936</td>\n",
       "    </tr>\n",
       "  </tbody>\n",
       "</table>\n",
       "</div>"
      ],
      "text/plain": [
       "           STATION  AVG_ENTRIES  AVG_REVENUE  RATE+.25 REVENUE  \\\n",
       "0             1 AV  1158.196639  3185.040756       3474.589916   \n",
       "1           103 ST  1755.734545  4828.270000       5267.203636   \n",
       "2    103 ST-CORONA  1682.699634  4627.423993       5048.098901   \n",
       "3           104 ST  1183.075092  3253.456502       3549.225275   \n",
       "4           110 ST   635.374312  1747.279358       1906.122936   \n",
       "5           111 ST   672.048314  1848.132862       2016.144941   \n",
       "6           116 ST  2008.721925  5523.985294       6026.165775   \n",
       "7  116 ST-COLUMBIA   586.955963  1614.128899       1760.867890   \n",
       "8           121 ST   207.237319   569.902627        621.711957   \n",
       "9           125 ST  2234.568574  6145.063579       6703.705722   \n",
       "\n",
       "   RATE+10% REVENUE  \n",
       "0       3503.544832  \n",
       "1       5311.097000  \n",
       "2       5090.166392  \n",
       "3       3578.802152  \n",
       "4       1922.007294  \n",
       "5       2032.946149  \n",
       "6       6076.383824  \n",
       "7       1775.541789  \n",
       "8        626.892889  \n",
       "9       6759.569936  "
      ]
     },
     "execution_count": 58,
     "metadata": {},
     "output_type": "execute_result"
    }
   ],
   "source": [
    "avg_entries_all_stations.head(10)"
   ]
  },
  {
   "cell_type": "code",
   "execution_count": null,
   "id": "1e8e379c-ae48-4f2f-8df7-dbf37f1771af",
   "metadata": {},
   "outputs": [],
   "source": []
  },
  {
   "cell_type": "code",
   "execution_count": null,
   "id": "5506d2ca-86a5-4be3-9ec2-c8e4f60975cc",
   "metadata": {},
   "outputs": [],
   "source": []
  },
  {
   "cell_type": "code",
   "execution_count": null,
   "id": "cdbb2c3e-8e39-40d1-b453-e4b4aa58df61",
   "metadata": {},
   "outputs": [],
   "source": []
  },
  {
   "cell_type": "code",
   "execution_count": null,
   "id": "7c9689cb-6953-40cd-8194-57f8266c9270",
   "metadata": {},
   "outputs": [],
   "source": []
  }
 ],
 "metadata": {
  "kernelspec": {
   "display_name": "Python 3 (ipykernel)",
   "language": "python",
   "name": "python3"
  },
  "language_info": {
   "codemirror_mode": {
    "name": "ipython",
    "version": 3
   },
   "file_extension": ".py",
   "mimetype": "text/x-python",
   "name": "python",
   "nbconvert_exporter": "python",
   "pygments_lexer": "ipython3",
   "version": "3.8.11"
  }
 },
 "nbformat": 4,
 "nbformat_minor": 5
}
